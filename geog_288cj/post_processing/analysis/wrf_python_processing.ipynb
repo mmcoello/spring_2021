{
 "cells": [
  {
   "cell_type": "code",
   "execution_count": 1,
   "metadata": {},
   "outputs": [],
   "source": [
    "# core scientific libraries\n",
    "import os\n",
    "import sys\n",
    "import numpy as np\n",
    "import pandas as pd\n",
    "import xarray as xr\n",
    "import datetime\n",
    "\n",
    "# plotting\n",
    "import matplotlib.pyplot as plt\n",
    "import seaborn as sns\n",
    "import cartopy.crs as ccrs\n",
    "import cartopy.feature as cfeature\n",
    "\n",
    "# secondary libraries\n",
    "import netCDF4 as nc\n",
    "from wrf import (to_np, getvar, smooth2d, get_cartopy, cartopy_xlim,\n",
    "                 cartopy_ylim, latlon_coords, interplevel, CoordPair, vertcross, g_uvmet, interpline, destagger,\n",
    "                interp2dxy, ll_to_xy, xy, ALL_TIMES, vinterp)\n",
    "import metpy.calc as mpcalc\n",
    "from metpy.units import units\n",
    "\n",
    "import pytz\n",
    "\n",
    "from xarray.backends.netCDF4_ import NetCDF4DataStore\n",
    "\n",
    "import copy "
   ]
  },
  {
   "cell_type": "code",
   "execution_count": 72,
   "metadata": {
    "scrolled": true
   },
   "outputs": [
    {
     "name": "stdout",
     "output_type": "stream",
     "text": [
      "Opened File: ../input_data/wrfout_d03_2017-05-22_00:00:00 \n",
      "\n"
     ]
    }
   ],
   "source": [
    "# Set filepath\n",
    "#Duine 2019 non fire western case study \n",
    "# datdir = '/home/sbarc/wrf/wrf401/sundowners/20170311/run-64452560-z0-SMOIS200/'\n",
    "# filename = 'wrfout_d04_2017-03-10_18:00:00'\n",
    "\n",
    "# Non-sundowner\n",
    "datdir = '../input_data/'\n",
    "filename = 'wrfout_d03_2017-05-22_00:00:00'\n",
    "\n",
    "# #Cannon Case Study Non-sundowner\n",
    "# datdir = '/home/sundowners/non-sundowner/2004/'\n",
    "# filename = 'wrfout_d04_2004-04-29_00:00:00'\n",
    "\n",
    "# set output filepath\n",
    "outdir = '/home/sbarc/students/coello/repos/classes/spring_2021/geog_288cj/post_processing/outputs/'\n",
    "fig_outdir = '/home/sbarc/students/coello/repos/classes/spring_2021/geog_288cj/post_processing/outputs/figures/'\n",
    "dat_outdir = '/home/sbarc/students/coello/repos/classes/spring_2021/geog_288cj/post_processing/outputs/data/'\n",
    "\n",
    "\n",
    "# open wrf Dataset object\n",
    "filepath = datdir + filename\n",
    "print('Opened File:', filepath, '\\n')\n",
    "\n",
    "# Open NetCDF Dataset object\n",
    "f = nc.Dataset(filepath,'r')\n",
    "\n",
    "# List variable names\n",
    "#print(\"Variables:\")\n",
    "#print(f.variables.keys(),'\\n')\n",
    "\n",
    "# Show variavles and all details\n",
    "#print(f.variables.items(),'\\n')\n",
    "\n",
    "# Show dimension names and sizes\n",
    "#print(\"Dimensions:\")\n",
    "#print(f.dimensions.items(),'\\n')\n",
    "\n",
    "# Print all file metadata\n",
    "#print(f)   # or run 'ncdump -h <filename>' in terminal"
   ]
  },
  {
   "cell_type": "code",
   "execution_count": 73,
   "metadata": {},
   "outputs": [
    {
     "name": "stdout",
     "output_type": "stream",
     "text": [
      "Interpoalted Variable:temp\n",
      "Interpoalted Variable:theta\n",
      "Interpoalted Variable:ua\n",
      "Interpoalted Variable:va\n",
      "Interpoalted Variable:wa\n",
      "Interpoalted Variable:rh\n"
     ]
    }
   ],
   "source": [
    "# specify desired variables to grad from the wrf out file and their units\n",
    "des_vars = [\"temp\", \"theta\", \"ua\", \"va\", \"wa\", \"rh\"]\n",
    "var_units = [\"K\", \"K\", \"m s-1\", \"m s-1\", \"m s-1\", None]\n",
    "\n",
    "# specify the z levels to interpolate to [km]\n",
    "v_levels = np.arange(0, 21, 0.05)\n",
    "\n",
    "# specify the time index desired\n",
    "# indx = 3\n",
    "indx = ALL_TIMES\n",
    "\n",
    "# make empty list to append interpolated dataarrays too\n",
    "data = []\n",
    "\n",
    "for i in range(len(des_vars)):\n",
    "    \n",
    "    # grab var with units at time index\n",
    "    if (var_units[i] != None):\n",
    "        tmp = getvar(f, des_vars[i], units = var_units[i], timeidx = indx)\n",
    "    else:\n",
    "        tmp = getvar(f, des_vars[i], timeidx = indx)\n",
    "        \n",
    "    # interpolate to z levels\n",
    "    tmp_interp = vinterp(wrfin = f, field = tmp, vert_coord = 'ght_msl', interp_levels = v_levels, timeidx = indx)\n",
    "   \n",
    "    print(\"Interpoalted Variable:\" + des_vars[i])\n",
    "    \n",
    "    # fix projection labeling for saving as a netcdf https://github.com/NCAR/wrf-python/issues/91\n",
    "    del tmp_interp.attrs['coordinates']\n",
    "\n",
    "    tmp_interp.attrs['projection'] = str(tmp_interp.attrs['projection'])\n",
    "    \n",
    "    # append to list\n",
    "    data.append(tmp_interp)\n",
    "    \n",
    "    \n",
    "# merge into one dataset    \n",
    "data = xr.merge(data)\n",
    "\n",
    "# add terrian height to dataset after correcting the projection labeling\n",
    "terr = getvar(f, \"ter\", units = 'm', timeidx = indx)\n",
    "\n",
    "del terr.attrs['coordinates']\n",
    "\n",
    "terr.attrs['projection'] = str(terr.attrs['projection'])\n",
    " \n",
    "data['terr']  = terr  \n",
    "    \n",
    "# pull lat and lon vallues and replace current corrdinates\n",
    "lats = data.XLAT.values[:,0]\n",
    "lons = data.XLONG.values[0,:]\n",
    "\n",
    "data['south_north'] = lats\n",
    "data['west_east'] = lons\n",
    "\n",
    "# remane dimensions with ugly names\n",
    "data = data.rename({'south_north':'lat', 'west_east':'lon', 'XTIME':'time', 'XLAT':'lat_grid', \n",
    "                    'XLONG':'lon_grid', 'interp_level':'z'})\n",
    "\n",
    "# change vertical coordinates to meters\n",
    "data['z'] = data['z']*1000\n",
    "\n",
    "# fix the time coordinates\n",
    "data['time'] = data['Time']\n",
    "data = data.drop(\"Time\")"
   ]
  },
  {
   "cell_type": "code",
   "execution_count": 74,
   "metadata": {},
   "outputs": [
    {
     "name": "stdout",
     "output_type": "stream",
     "text": [
      "Saved Files As: \n",
      " /home/sbarc/students/coello/repos/classes/spring_2021/geog_288cj/post_processing/outputs/data/wrfout_d03_2017-05-22_00:00:00\n"
     ]
    }
   ],
   "source": [
    "data.to_netcdf(path = dat_outdir + filename)\n",
    "\n",
    "print('Saved Files As: \\n', dat_outdir + filename)"
   ]
  }
 ],
 "metadata": {
  "kernelspec": {
   "display_name": "Python (general)",
   "language": "python",
   "name": "general"
  },
  "language_info": {
   "codemirror_mode": {
    "name": "ipython",
    "version": 3
   },
   "file_extension": ".py",
   "mimetype": "text/x-python",
   "name": "python",
   "nbconvert_exporter": "python",
   "pygments_lexer": "ipython3",
   "version": "3.7.6"
  }
 },
 "nbformat": 4,
 "nbformat_minor": 4
}
