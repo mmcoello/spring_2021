{
 "cells": [
  {
   "cell_type": "code",
   "execution_count": 1,
   "metadata": {},
   "outputs": [],
   "source": [
    "import numpy as np\n",
    "import pandas as pd\n",
    "import datetime\n",
    "import xarray as xr\n",
    "import os\n",
    "import math\n",
    "\n",
    "from pytz import timezone\n",
    "\n",
    "import cartopy.crs as ccrs\n",
    "\n",
    "import matplotlib.pyplot as plt\n",
    "import matplotlib.dates as mdates\n",
    "\n",
    "from metpy.units import units\n",
    "import metpy.calc as mpcalc\n",
    "from metpy.interpolate import cross_section\n",
    "\n",
    "from scipy.interpolate import griddata\n",
    "from scipy.ndimage import gaussian_filter\n",
    "import scipy.io\n",
    "\n",
    "import datetime"
   ]
  },
  {
   "cell_type": "code",
   "execution_count": 2,
   "metadata": {},
   "outputs": [],
   "source": [
    "def nearest(array, value):\n",
    "    array = np.asarray(array)\n",
    "    idx = (np.abs(array - value)).argmin()\n",
    "    return array[idx]\n",
    "\n",
    "def vertical_interpolate(vcoord_data, interp_var, interp_levels):\n",
    "    \n",
    "    # interpolate data to desired levels\n",
    "    interp_data = np.interp(interp_levels, vcoord_data, interp_var)\n",
    "    \n",
    "    return interp_data\n",
    "\n",
    "def radisonde_cross_section(times, all_data, start, end, step):\n",
    "\n",
    "    # Set up vertical grid\n",
    "    vertical_levels = np.arange(start, end, step)\n",
    "    #vertical_levels[0] = 0\n",
    "\n",
    "    # Number of vertical levels and times\n",
    "    hlevs = len(vertical_levels)\n",
    "    ntimes = len(times)\n",
    "\n",
    "    # setting up needed variables\n",
    "    elev = []\n",
    "    xr_list = []\n",
    "    keys = all_data.vars.values\n",
    "    tmp_grid = dict.fromkeys(keys)\n",
    "    \n",
    "    # Interpolate all variables for each radiosonde observation\n",
    "    # loop through each variable\n",
    "    for key in tmp_grid.keys():\n",
    "  \n",
    "        # make empty grid to the size of the times by the height levels\n",
    "        tmp_grid[key] = np.empty((ntimes, hlevs))\n",
    "        \n",
    "        # loop through times\n",
    "        for time, loc in zip(times, range(ntimes)):\n",
    "\n",
    "            # if the variable is height, then just save the desired height levels\n",
    "            if key == 'HGHT':\n",
    "                tmp_grid[key][loc, :] = vertical_levels\n",
    "                \n",
    "            # if it is any other variable, interpolate variable to desired height levels and store each \n",
    "            # variable together by time\n",
    "            else:\n",
    "                tmp_grid[key][loc, :] = vertical_interpolate(\n",
    "                    all_data.sel(vars = 'HGHT', times = str(time)).values, all_data.sel(vars = key, times = str(time)).values,\n",
    "                    vertical_levels)\n",
    "            #print(tmp_grid[key][loc, :], '\\n')\n",
    "        \n",
    "        # convert each interpolated variable by time into an xarray\n",
    "        tmp_xr = xr.DataArray(tmp_grid[key], dims = ('time', 'height'), \\\n",
    "                              coords = {'time': times, 'height': vertical_levels})\n",
    "        \n",
    "        # add variable name as a coordinate\n",
    "        tmp_xr = tmp_xr.assign_coords(coords={'vars': key})\n",
    "        \n",
    "        # append to list of xarrays\n",
    "        xr_list.append(tmp_xr)\n",
    "\n",
    "    # convert list of xarrays into an xarray  \n",
    "    full_xr = xr.concat(xr_list, dim = 'vars')\n",
    "    \n",
    "    # make mesh for the time and height grid for each variable\n",
    "    hght_grid, times_grid = np.meshgrid(vertical_levels, times)\n",
    "            \n",
    "    return full_xr, times_grid, hght_grid"
   ]
  },
  {
   "cell_type": "code",
   "execution_count": 3,
   "metadata": {},
   "outputs": [],
   "source": [
    "def plot_radiosonde_profiles(time_grid, hght_grid, data, contour_low, contour_high, data_units, data_labels, \\\n",
    "                             data_name, colormap, c_step, quiv, time_skip, z_skip, U, V, end, outdir):\n",
    "        \n",
    "    # pull times into 1d array\n",
    "    date_times = time_grid[0,:]\n",
    "    \n",
    "    # Start Figure, set big size for cross section\n",
    "    fig = plt.figure(figsize=(11, 5))\n",
    "\n",
    "    # Specify plotting axis (single panel)\n",
    "    ax = plt.subplot(111)\n",
    "\n",
    "    # Set y-scale to be log since pressure decreases exponentially with height\n",
    "    #ax.set_yscale('log')\n",
    "\n",
    "    # Set limits, tickmarks, and ticklabels for y-axis\n",
    "    ax.set_ylim([end, -1])\n",
    "    ax.set_yticks(range(end, -1, -2000))\n",
    "    ax.set_yticklabels(range(end, -1, -2000))\n",
    "\n",
    "    # Invert the y-axis since pressure decreases with increasing height\n",
    "    ax.invert_yaxis()\n",
    "\n",
    "    # Don't plot xticks\n",
    "    plt.xticks()\n",
    "\n",
    "    # Plot smooth contour filled data with black contour lines\n",
    "    cf = ax.contourf(time_grid, hght_grid, data, range(contour_low, contour_high, 1), cmap = colormap)\n",
    "\n",
    "    cs = ax.contour(time_grid, hght_grid, data, range(contour_low, contour_high, c_step), colors = 'k')\n",
    "\n",
    "    cb = plt.colorbar(cf, orientation = 'vertical', shrink = 0.95, pad = 0.02, label = data_units)\n",
    "    \n",
    "    if (quiv == True):\n",
    "        ax.quiver(time_grid[::time_skip,::z_skip], hght_grid[::time_skip,::z_skip],\\\n",
    "                  U[::time_skip,::z_skip], V[::time_skip,::z_skip], color = 'dimgray', pivot = 'middle')\n",
    "\n",
    "    ax.clabel(cs, fmt='%i', colors = 'k')\n",
    "\n",
    "    # Add some informative titles\n",
    "    plt.ylabel('Height [m]')\n",
    "\n",
    "    # make x laeled dates prettier\n",
    "    ax.xaxis.set_major_formatter(mdates.DateFormatter('%m/%d/%y %H PDT'))\n",
    "    fig.autofmt_xdate()\n",
    "\n",
    "    plt.title(data_labels, loc = 'center')\n",
    "\n",
    "    plot_name = data_name + '_profiler_time_profiles_' + str(date_times[0])[:-16].replace('-', '_').replace('T', '_') + \\\n",
    "                '_to_' + str(date_times[-1])[:-16].replace('-', '_').replace('T', '_') + '.png'\n",
    "    \n",
    "    plt.savefig(outdir+plot_name,  bbox_inches='tight', dpi = 120)\n",
    "    plt.show()\n",
    "    print('File saved as:', outdir+plot_name, '\\n')\n",
    "    "
   ]
  },
  {
   "cell_type": "markdown",
   "metadata": {},
   "source": [
    "### opening wind profiler data and processing"
   ]
  },
  {
   "cell_type": "code",
   "execution_count": 4,
   "metadata": {},
   "outputs": [],
   "source": [
    "# set datadir\n",
    "datadir = '/home/sbarc/students/duine/oceanToValleyWind/data/obs/windProfiler/'\n",
    "\n",
    "# set filenames\n",
    "filenames = ['windProfiler_SBA_temps_20160824_20200924.mat', 'windProfiler_SBA_winds_20160824_20200924.mat']\n",
    "\n",
    "# set output filepath\n",
    "outdir = '/home/sbarc/students/coello/repos/classes/spring_2021/geog_288cj/plotting/outputs/'\n",
    "fig_outdir = '/home/sbarc/students/coello/repos/classes/spring_2021/geog_288cj/plotting/outputs/figures/'\n",
    "dat_outdir = '/home/sbarc/students/coello/repos/classes/spring_2021/geog_288cj/plotting/outputs/data/'"
   ]
  },
  {
   "cell_type": "code",
   "execution_count": 5,
   "metadata": {},
   "outputs": [],
   "source": [
    "# open temp and wind files\n",
    "temp = scipy.io.loadmat(datadir + filenames[0])\n",
    "wind = scipy.io.loadmat(datadir + filenames[1])"
   ]
  },
  {
   "cell_type": "code",
   "execution_count": 6,
   "metadata": {},
   "outputs": [],
   "source": [
    "# convert from weird matlab time to normal\n",
    "def return_datetime(matlab_datenum):\n",
    "    return datetime.datetime.fromordinal(int(matlab_datenum)) + datetime.timedelta(days=matlab_datenum%1) - datetime.timedelta(days = 366)\n",
    "\n",
    "temp_time_start = return_datetime(temp['tnumPST'][0,:][0])\n",
    "temp_time_end = return_datetime(temp['tnumPST'][0,:][-1])\n",
    "\n",
    "wind_time_start = return_datetime(wind['tnumPST'][0,:][0])\n",
    "wind_time_end = return_datetime(wind['tnumPST'][0,:][-1])"
   ]
  },
  {
   "cell_type": "code",
   "execution_count": 7,
   "metadata": {},
   "outputs": [],
   "source": [
    "# round start temp to nearest hour\n",
    "temp_time_start = temp_time_start.replace(second=0, microsecond=0, minute=0, hour=temp_time_start.hour)+datetime.timedelta(hours=temp_time_start.minute//30)"
   ]
  },
  {
   "cell_type": "code",
   "execution_count": 8,
   "metadata": {},
   "outputs": [],
   "source": [
    "# make pandas datetime for temps\n",
    "temp_time = pd.date_range(start = temp_time_start, end = temp_time_end + datetime.timedelta(hours = 1), freq='60min')"
   ]
  },
  {
   "cell_type": "code",
   "execution_count": 9,
   "metadata": {},
   "outputs": [],
   "source": [
    "# make pandas datetime for winds\n",
    "wind_time = pd.date_range(start = wind_time_start, end = wind_time_end + datetime.timedelta(hours = 1), freq='60min')"
   ]
  },
  {
   "cell_type": "code",
   "execution_count": 10,
   "metadata": {},
   "outputs": [],
   "source": [
    "# turn temp data into xarray dataset\n",
    "temp_ds = xr.Dataset({'tempC': (['height','time'], temp['tempC']),\n",
    "                      'w': (['height','time'], temp['vertW'])},\n",
    "                      coords = {'time': temp_time, 'height': temp['height'][:,100]})"
   ]
  },
  {
   "cell_type": "code",
   "execution_count": 11,
   "metadata": {},
   "outputs": [],
   "source": [
    "# turn wind data into xarray dataset\n",
    "wind_ds = xr.Dataset({'wspd': (['height','time'], wind['wspd2']),\n",
    "                      'wdir': (['height','time'], wind['wdir2']),\n",
    "                      'u': (['height','time'], wind['u2']),\n",
    "                      'v': (['height','time'], wind['v2']),},\n",
    "                      coords = {'time': wind_time, 'height': wind['height2'][:,0]})"
   ]
  },
  {
   "cell_type": "code",
   "execution_count": 12,
   "metadata": {},
   "outputs": [],
   "source": [
    "wind_ds = wind_ds.sel(time = slice('2017-05-21T17:00:00.000000000', '2017-05-25T05:00:00.000000000'))"
   ]
  },
  {
   "cell_type": "code",
   "execution_count": 13,
   "metadata": {},
   "outputs": [],
   "source": [
    "temp_ds = temp_ds.sel(time = slice('2017-05-21T17:00:00.000000000', '2017-05-25T05:00:00.000000000'))"
   ]
  },
  {
   "cell_type": "code",
   "execution_count": 14,
   "metadata": {},
   "outputs": [],
   "source": [
    "# mesh up time and heights for plotting\n",
    "temp_times_grid, temp_hght_grid = np.meshgrid(temp_ds.time.values, temp_ds.height.values)\n",
    "\n",
    "# mesh up time and heights for plotting\n",
    "wind_times_grid, wind_hght_grid = np.meshgrid(wind_ds.time.values, wind_ds.height.values)"
   ]
  },
  {
   "cell_type": "markdown",
   "metadata": {},
   "source": [
    "### opening wrfout files and processing"
   ]
  },
  {
   "cell_type": "code",
   "execution_count": null,
   "metadata": {},
   "outputs": [
    {
     "name": "stdout",
     "output_type": "stream",
     "text": [
      "Opened File: ../input_data/wrf_out_post/wrfout_d03_2017-05-22_00:00:00_zlev\n",
      "Opened File: ../input_data/wrf_out_post/wrfout_d03_2017-05-23_00:00:00_zlev\n",
      "Opened File: ../input_data/wrf_out_post/wrfout_d03_2017-05-24_00:00:00_zlev\n",
      "Opened File: ../input_data/wrf_out_post/wrfout_d03_2017-05-25_00:00:00_zlev\n"
     ]
    }
   ],
   "source": [
    "station_lats = [34.42611]\n",
    "station_lons = [-119.84361] \n",
    "stations = [\"KSBA\"]\n",
    "\n",
    "# Set filepath\n",
    "datadir = '../input_data/wrf_out_post/'\n",
    "\n",
    "# set file names\n",
    "filename = ['wrfout_d03_2017-05-22_00:00:00_zlev', 'wrfout_d03_2017-05-23_00:00:00_zlev', \n",
    "            'wrfout_d03_2017-05-24_00:00:00_zlev', 'wrfout_d03_2017-05-25_00:00:00_zlev']   \n",
    "\n",
    "da_list = []\n",
    "dates_list = []\n",
    "\n",
    "\n",
    "for j in range(len(filename)):\n",
    "\n",
    "    # open wrf Dataset object\n",
    "    filepath = datadir + filename[j]\n",
    "    dat = xr.open_dataset(filepath)\n",
    "    print('Opened File:', filepath)\n",
    "\n",
    "    # append xarray to a list\n",
    "    da_list.append(dat)\n",
    "\n",
    "# convert list of xarrays to one xarray\n",
    "ds = xr.concat(da_list, dim = 'time')\n",
    "\n",
    "# limit wrf data time frame by station datae\n",
    "ds = ds.sel(time = slice(str(ds.time.values[0]), str(ds.time.values[-1])))\n",
    "\n",
    "da_list = []\n",
    "\n",
    "# adjust station lats and lons to have the nearest wrf lat and lon to station location\n",
    "for i in range(len(stations)):\n",
    "    \n",
    "    # interpoalte to specific station location\n",
    "    ds_tmp = ds.interp(lat = station_lats[i], lon = station_lons[i])\n",
    "    \n",
    "    # add station name as coordinate\n",
    "    ds_tmp = ds_tmp.assign_coords(station = stations[i])\n",
    "    \n",
    "    # append xarray to a list\n",
    "    da_list.append(ds_tmp)\n",
    "    \n",
    "# convert list of xarrays to one xarray\n",
    "dwrf = xr.concat(da_list, dim = 'station')"
   ]
  },
  {
   "cell_type": "code",
   "execution_count": null,
   "metadata": {},
   "outputs": [],
   "source": [
    "# mesh up time and heights for plotting\n",
    "hght_grid_wrf, times_grid_wrf = np.meshgrid(dwrf.z.values, dwrf.time.values)"
   ]
  },
  {
   "cell_type": "code",
   "execution_count": null,
   "metadata": {},
   "outputs": [],
   "source": [
    "# convert temp to C\n",
    "dwrf['tempC'] = dwrf['temp'] - 273.15"
   ]
  },
  {
   "cell_type": "markdown",
   "metadata": {},
   "source": [
    "### plottting"
   ]
  },
  {
   "cell_type": "code",
   "execution_count": null,
   "metadata": {},
   "outputs": [],
   "source": [
    "ymax = 7000"
   ]
  },
  {
   "cell_type": "code",
   "execution_count": null,
   "metadata": {},
   "outputs": [],
   "source": [
    "wnd_min = 0\n",
    "wnd_max = 40\n",
    "\n",
    "plot_radiosonde_profiles(wind_times_grid, wind_hght_grid, wind_ds['wspd'], wnd_min, wnd_max, 'm s-1', \\\n",
    "                         'KSBA Profiler Winds [m s-1]', 'wspd_KSBA',\\\n",
    "                         'BuPu', 5, True, 2, 12, wind_ds['u'], wind_ds['v'], ymax, fig_outdir)"
   ]
  },
  {
   "cell_type": "code",
   "execution_count": null,
   "metadata": {},
   "outputs": [],
   "source": [
    "plot_radiosonde_profiles(times_grid_wrf, hght_grid_wrf, dwrf['wspd'].sel(station = \"KSBA\"), \\\n",
    "                         wnd_min, wnd_max, 'm s-1', 'WRF Winds [m s-1]', 'wind_wrf', 'BuPu', \\\n",
    "                         5, True, 12, 10, dwrf['u'].sel(station = \"KSBA\"), \\\n",
    "                         dwrf['v'].sel(station = \"KSBA\"), ymax, fig_outdir)"
   ]
  },
  {
   "cell_type": "code",
   "execution_count": null,
   "metadata": {},
   "outputs": [],
   "source": [
    "uv_min = -35\n",
    "uv_max = 35\n",
    "\n",
    "plot_radiosonde_profiles(wind_times_grid, wind_hght_grid, wind_ds['u'], uv_min, uv_max, 'm s-1', \\\n",
    "                         'KSBA Profiler Zonal Winds [m s-1]', 'U_wind_KSBA', 'PuOr', \\\n",
    "                         5, False, None, None, None, None, ymax, fig_outdir)\n",
    "\n",
    "plot_radiosonde_profiles(times_grid_wrf, hght_grid_wrf, dwrf['u'].sel(station = \"KSBA\"),\\\n",
    "                         uv_min, uv_max, 'm s-1', 'WRF Zonal Winds [m s-1]', 'U_wind_wrf', 'PuOr', \\\n",
    "                         5, False, None, None, None, None, ymax, fig_outdir)\n",
    "\n",
    "plot_radiosonde_profiles(wind_times_grid, wind_hght_grid, wind_ds['v'], uv_min, uv_max, 'm s-1', \\\n",
    "                         'KSBA Profiler Meridional Winds [m s-1]', 'V_wind_KSBA', 'PuOr', \\\n",
    "                         5, False, None, None, None, None, ymax, fig_outdir)\n",
    "\n",
    "plot_radiosonde_profiles(times_grid_wrf, hght_grid_wrf, dwrf['v'].sel(station = \"KSBA\"), \\\n",
    "                         uv_min, uv_max, 'm s-1', 'WRF Meridional Winds [m s-1]', 'V_wind_wrf', 'PuOr', \\\n",
    "                         5, False, None, None, None, None, ymax, fig_outdir)"
   ]
  },
  {
   "cell_type": "code",
   "execution_count": null,
   "metadata": {
    "scrolled": false
   },
   "outputs": [],
   "source": [
    "plot_radiosonde_profiles(temp_times_grid, temp_hght_grid, temp_ds['tempC'], 0, 40, 'C',\\\n",
    "                         'KSBA Profiler Temperature [C]', 'temp_KSBA', 'RdYlBu_r', \\\n",
    "                         5, False, None, None, None, None, 2500, fig_outdir)\n",
    "\n",
    "\n",
    "plot_radiosonde_profiles(times_grid_wrf, hght_grid_wrf, dwrf['tempC'].sel(station = \"KSBA\"),\\\n",
    "                         0, 40, 'K', 'WRF Temperature [C]', 'temp_wrf', 'RdYlBu_r', \\\n",
    "                         5, False, None, None, None, None, 2500, fig_outdir)"
   ]
  }
 ],
 "metadata": {
  "kernelspec": {
   "display_name": "Python (general)",
   "language": "python",
   "name": "general"
  },
  "language_info": {
   "codemirror_mode": {
    "name": "ipython",
    "version": 3
   },
   "file_extension": ".py",
   "mimetype": "text/x-python",
   "name": "python",
   "nbconvert_exporter": "python",
   "pygments_lexer": "ipython3",
   "version": "3.7.6"
  }
 },
 "nbformat": 4,
 "nbformat_minor": 4
}
