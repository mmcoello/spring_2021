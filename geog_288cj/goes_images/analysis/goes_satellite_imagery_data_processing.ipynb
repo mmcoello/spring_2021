{
 "cells": [
  {
   "cell_type": "code",
   "execution_count": 1,
   "metadata": {},
   "outputs": [],
   "source": [
    "time_idx = 0 ## the time index value within the hour - usually there are 11 index values"
   ]
  },
  {
   "cell_type": "markdown",
   "metadata": {},
   "source": [
    "**Load python libraries**"
   ]
  },
  {
   "cell_type": "code",
   "execution_count": 2,
   "metadata": {},
   "outputs": [],
   "source": [
    "%matplotlib inline\n",
    "import boto3\n",
    "import botocore\n",
    "import requests\n",
    "from dask.distributed import Client, progress\n",
    "import netCDF4\n",
    "import xarray as xr\n",
    "import numpy as np\n",
    "\n",
    "import matplotlib.pyplot as plt\n",
    "import cartopy.crs as ccrs\n",
    "import cartopy.feature as cfeature\n",
    "from cartopy.mpl.gridliner import LONGITUDE_FORMATTER, LATITUDE_FORMATTER\n",
    "import matplotlib.ticker as mticker\n",
    "from IPython.display import Image, display\n",
    "\n",
    "from botocore import UNSIGNED\n",
    "from botocore.config import Config\n",
    "\n",
    "import datetime\n",
    "\n",
    "# path to modules\n",
    "import sys\n",
    "sys.path.append('../modules')\n",
    "\n",
    "from GOESR_functions import goes_lat_lon_reproj#, get_s3_keys\n",
    "from plotter import loadCPT\n",
    "\n",
    "import pytz"
   ]
  },
  {
   "cell_type": "code",
   "execution_count": 3,
   "metadata": {},
   "outputs": [],
   "source": [
    "def get_s3_keys(bucket, s3_client, prefix = ''):\n",
    "    \"\"\"\n",
    "    Generate the keys in an S3 bucket.\n",
    "\n",
    "    :param bucket: Name of the S3 bucket.\n",
    "    :param prefix: Only fetch keys that start with this prefix (optional).\n",
    "    \"\"\"\n",
    "    \n",
    "    kwargs = {'Bucket': bucket}\n",
    "\n",
    "    if isinstance(prefix, str):\n",
    "        kwargs['Prefix'] = prefix\n",
    "\n",
    "    while True:\n",
    "        resp = s3_client.list_objects_v2(**kwargs)\n",
    "        for obj in resp['Contents']:\n",
    "            key = obj['Key']\n",
    "            if key.startswith(prefix):\n",
    "                yield key\n",
    "\n",
    "        try:\n",
    "            kwargs['ContinuationToken'] = resp['NextContinuationToken']\n",
    "        except KeyError:\n",
    "            break"
   ]
  },
  {
   "cell_type": "markdown",
   "metadata": {},
   "source": [
    "**Connect to Dask Distributed Cluster**\n",
    "\n",
    "Set the `memory_limit` parameter in `Client()` if dask doesn't auto detect your memory limit accurately later on in the notebook. You will know this is occurring if processes start to get killed due to memory limit errors."
   ]
  },
  {
   "cell_type": "code",
   "execution_count": 4,
   "metadata": {},
   "outputs": [
    {
     "data": {
      "text/html": [
       "<table style=\"border: 2px solid white;\">\n",
       "<tr>\n",
       "<td style=\"vertical-align: top; border: 0px solid white\">\n",
       "<h3 style=\"text-align: left;\">Client</h3>\n",
       "<ul style=\"text-align: left; list-style: none; margin: 0; padding: 0;\">\n",
       "  <li><b>Scheduler: </b>tcp://127.0.0.1:40373</li>\n",
       "  <li><b>Dashboard: </b><a href='http://127.0.0.1:8787/status' target='_blank'>http://127.0.0.1:8787/status</a></li>\n",
       "</ul>\n",
       "</td>\n",
       "<td style=\"vertical-align: top; border: 0px solid white\">\n",
       "<h3 style=\"text-align: left;\">Cluster</h3>\n",
       "<ul style=\"text-align: left; list-style:none; margin: 0; padding: 0;\">\n",
       "  <li><b>Workers: </b>3</li>\n",
       "  <li><b>Cores: </b>48</li>\n",
       "  <li><b>Memory: </b>22.35 GiB</li>\n",
       "</ul>\n",
       "</td>\n",
       "</tr>\n",
       "</table>"
      ],
      "text/plain": [
       "<Client: 'tcp://127.0.0.1:40373' processes=3 threads=48, memory=22.35 GiB>"
      ]
     },
     "execution_count": 4,
     "metadata": {},
     "output_type": "execute_result"
    }
   ],
   "source": [
    "from dask.distributed import Client\n",
    "daskclient = Client(processes=True, n_workers=3, memory_limit='8GB')\n",
    "daskclient"
   ]
  },
  {
   "cell_type": "markdown",
   "metadata": {},
   "source": [
    "**Set up access to S3 bucket using `boto3` and a low-level client**\n",
    "\n",
    "Rather than setting up access key and ID, we will use a low-level client to request data anonymously."
   ]
  },
  {
   "cell_type": "code",
   "execution_count": 5,
   "metadata": {},
   "outputs": [],
   "source": [
    "# No AWS keys required\n",
    "client = boto3.client('s3', config=botocore.client.Config(signature_version=botocore.UNSIGNED))"
   ]
  },
  {
   "cell_type": "markdown",
   "metadata": {},
   "source": [
    "Let's check out what is in the NOAA GOES AWS bucket. For more information on each of the products, see this [documentation](https://docs.opendata.aws/noaa-goes16/cics-readme.html). "
   ]
  },
  {
   "cell_type": "code",
   "execution_count": 6,
   "metadata": {
    "scrolled": true
   },
   "outputs": [],
   "source": [
    "bucket_name = 'noaa-goes16'\n",
    "\n",
    "paginator = client.get_paginator('list_objects')\n",
    "result = paginator.paginate(Bucket=bucket_name, Delimiter='/')\n",
    "# for prefix in result.search('CommonPrefixes'):\n",
    "#     print(prefix.get('Prefix'))"
   ]
  },
  {
   "cell_type": "code",
   "execution_count": 7,
   "metadata": {},
   "outputs": [
    {
     "name": "stdout",
     "output_type": "stream",
     "text": [
      "Opened file: OR_ABI-L2-CMIPC-M3C02_G16_s20171421502078_e20171421504451_c20171421504558\n",
      "Opened file: OR_ABI-L2-CMIPC-M3C02_G16_s20171431502078_e20171431504451_c20171431504552\n",
      "Opened file: OR_ABI-L2-CMIPC-M3C02_G16_s20171441502189_e20171441504562_c20171441508287\n"
     ]
    }
   ],
   "source": [
    "product_name = 'ABI-L2-CMIPC'\n",
    "year = 2017\n",
    "band = 2\n",
    "\n",
    "# day_of_year = 142\n",
    "days_of_year = [142, 143, 144]\n",
    "\n",
    "hour = 15\n",
    "# hours = [14]\n",
    "\n",
    "datas = []\n",
    "\n",
    "for day_of_year in days_of_year:\n",
    "# for hour in hours:\n",
    "\n",
    "\n",
    "    prefix = product_name + '/' + str(year) + '/' + str(day_of_year).zfill(3)  \\\n",
    "    + '/' + str(hour).zfill(2) + '/OR_'+ product_name + '-M3C' + str(band).zfill(2)\n",
    "    prefix\n",
    "\n",
    "    # Initialize s3 client. \n",
    "    s3_client = boto3.client('s3', config=Config(signature_version=UNSIGNED))\n",
    "\n",
    "    keys = get_s3_keys(bucket_name, s3_client, prefix = prefix)\n",
    "\n",
    "    s3_data_key = [key for key in keys][time_idx] ## specific time between 0 and 11\n",
    "    # s3_data_key = [key for key in keys][0] # selecting the first measurement taken within the hour\n",
    "\n",
    "    resp = requests.get('https://' + bucket_name + '.s3.amazonaws.com/' + s3_data_key)\n",
    "\n",
    "    file_name = s3_data_key.split('/')[-1].split('.')[0]\n",
    "    nc4_ds = netCDF4.Dataset(file_name, memory = resp.content)\n",
    "    store = xr.backends.NetCDF4DataStore(nc4_ds)\n",
    "    DS = xr.open_dataset(store)\n",
    "\n",
    "    #Download netcdf for specified key\n",
    "    file_name = s3_data_key.split('/')[-1].split('.')[0]\n",
    "    nc4_ds = netCDF4.Dataset(file_name, memory = resp.content)\n",
    "    store = xr.backends.NetCDF4DataStore(nc4_ds)\n",
    "    DS = xr.open_dataset(store)\n",
    "    print('Opened file:', file_name)\n",
    "\n",
    "    #Convert radiance scan x, y data into derived latitude and longitude values using [this tutorial](https://makersportal.com/blog/2018/11/25/goes-r-satellite-latitude-and-longitude-grid-projection-algorithm)\n",
    "    lats, lons = goes_lat_lon_reproj(DS)\n",
    "\n",
    "    tmp = DS.CMI\n",
    "\n",
    "    tmp['lats'] = (('y', 'x'), lats)\n",
    "    tmp['lons'] = (('y', 'x'), lons)\n",
    "    \n",
    "    datas.append(tmp)\n",
    "    \n",
    "sat_data = xr.concat(datas, dim = 't')"
   ]
  },
  {
   "cell_type": "code",
   "execution_count": 8,
   "metadata": {},
   "outputs": [],
   "source": [
    "timez = sat_data.t.values\n",
    "\n",
    "# save times as datetimes\n",
    "dates = []\n",
    "dates_list = []\n",
    "\n",
    "# store dates as a datetine and convert it to PDT timezone\n",
    "for i in range(len(timez)):\n",
    "        \n",
    "    dates_obj = datetime.datetime.strptime(str(timez[i])[:-10], '%Y-%m-%dT%H:%M:%S')\n",
    "    dates_obj_zone = dates_obj.replace(tzinfo =  pytz.timezone('UTC'))\n",
    "    dates_obj_PDT = dates_obj_zone.astimezone(pytz.timezone('US/Pacific'))    \n",
    "    datetime64_PDT = np.datetime64(str(dates_obj_PDT)[:16])\n",
    "    dates.append(datetime64_PDT)\n",
    "    dates_list.append(datetime64_PDT)\n",
    "\n",
    "sat_data[\"t\"] = dates_list"
   ]
  },
  {
   "cell_type": "code",
   "execution_count": 12,
   "metadata": {},
   "outputs": [],
   "source": [
    "filename_out = 'GOES16_' + product_name + '_band_' + str(band) + '_' + str(sat_data.t[0].values)[:13].replace('T', '_').replace('-', '_') +\\\n",
    "                '-' + str(sat_data.t[-1].values)[:13].replace('T', '_').replace('-', '_')\n",
    "\n",
    "dat_outdir = '/home/sbarc/students/coello/repos/classes/spring_2021/geog_288cj/goes_images/outputs/data/'"
   ]
  },
  {
   "cell_type": "code",
   "execution_count": 13,
   "metadata": {},
   "outputs": [
    {
     "name": "stderr",
     "output_type": "stream",
     "text": [
      "/home/sbarc/students/coello/miniconda3/envs/goes/lib/python3.7/site-packages/xarray/core/dataarray.py:2778: SerializationWarning: saving variable y with floating point data as an integer dtype without any _FillValue to use for NaNs\n",
      "  return dataset.to_netcdf(*args, **kwargs)\n",
      "/home/sbarc/students/coello/miniconda3/envs/goes/lib/python3.7/site-packages/xarray/core/dataarray.py:2778: SerializationWarning: saving variable x with floating point data as an integer dtype without any _FillValue to use for NaNs\n",
      "  return dataset.to_netcdf(*args, **kwargs)\n"
     ]
    },
    {
     "name": "stdout",
     "output_type": "stream",
     "text": [
      "Saved Files As: \n",
      " /home/sbarc/students/coello/repos/classes/spring_2021/geog_288cj/goes_images/outputs/data/GOES16_ABI-L2-CMIPC_band_2_2017_05_22_08-2017_05_24_08\n"
     ]
    }
   ],
   "source": [
    "sat_data.to_netcdf(path = dat_outdir + filename_out)\n",
    "\n",
    "print('Saved Files As: \\n', dat_outdir + filename_out)"
   ]
  }
 ],
 "metadata": {
  "kernelspec": {
   "display_name": "Python (GOES)",
   "language": "python",
   "name": "goes"
  },
  "language_info": {
   "codemirror_mode": {
    "name": "ipython",
    "version": 3
   },
   "file_extension": ".py",
   "mimetype": "text/x-python",
   "name": "python",
   "nbconvert_exporter": "python",
   "pygments_lexer": "ipython3",
   "version": "3.7.10"
  }
 },
 "nbformat": 4,
 "nbformat_minor": 2
}
